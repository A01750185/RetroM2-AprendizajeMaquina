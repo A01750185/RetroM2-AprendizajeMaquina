{
  "nbformat": 4,
  "nbformat_minor": 0,
  "metadata": {
    "colab": {
      "name": "MomentoRetroM2.ipynb",
      "provenance": [],
      "collapsed_sections": []
    },
    "kernelspec": {
      "name": "python3",
      "display_name": "Python 3"
    },
    "language_info": {
      "name": "python"
    }
  },
  "cells": [
    {
      "cell_type": "markdown",
      "source": [
        "# **Momento de Retroalimentación: Módulo 2 Implementación de una técnica de aprendizaje máquina sin el uso de un framework. (Portafolio Implementación)**"
      ],
      "metadata": {
        "id": "pIiW6SEHaGbc"
      }
    },
    {
      "cell_type": "markdown",
      "source": [
        "**Amy Murakami Tsutsumi - A01750185**"
      ],
      "metadata": {
        "id": "nvn1efqIZ9TA"
      }
    },
    {
      "cell_type": "markdown",
      "source": [
        "Para este portafolio se analizarán los datos del clima en Szeged, Hungría del año 2006-2016. Este dataset se obtuvo de la siguiente liga: https://www.kaggle.com/datasets/budincsevity/szeged-weather\n",
        "\n",
        "Únicamente se utilizarán los primeros 100 datos de las columnas de temperatura y humedad. De esta manera se podrá predecir si existe una relación entre estos valores y si se puede predecir la humedad al tener el dato de la temperatura. "
      ],
      "metadata": {
        "id": "5Fw0ejT3xk7S"
      }
    },
    {
      "cell_type": "code",
      "source": [
        "import pandas as pd\n",
        "\n",
        "df = pd.read_csv('weatherHist.csv') #Leer el dataset\n",
        "df.head()"
      ],
      "metadata": {
        "colab": {
          "base_uri": "https://localhost:8080/",
          "height": 206
        },
        "id": "LmojNFgwnWXf",
        "outputId": "d9daaf42-ccdf-42eb-91fb-56886048aed0"
      },
      "execution_count": 34,
      "outputs": [
        {
          "output_type": "execute_result",
          "data": {
            "text/plain": [
              "   Temperature (C)  Humidity\n",
              "0         9.472222      0.89\n",
              "1         9.355556      0.86\n",
              "2         9.377778      0.89\n",
              "3         8.288889      0.83\n",
              "4         8.755556      0.83"
            ],
            "text/html": [
              "\n",
              "  <div id=\"df-ff8ba133-02a7-4226-be8d-f5cfc88bb000\">\n",
              "    <div class=\"colab-df-container\">\n",
              "      <div>\n",
              "<style scoped>\n",
              "    .dataframe tbody tr th:only-of-type {\n",
              "        vertical-align: middle;\n",
              "    }\n",
              "\n",
              "    .dataframe tbody tr th {\n",
              "        vertical-align: top;\n",
              "    }\n",
              "\n",
              "    .dataframe thead th {\n",
              "        text-align: right;\n",
              "    }\n",
              "</style>\n",
              "<table border=\"1\" class=\"dataframe\">\n",
              "  <thead>\n",
              "    <tr style=\"text-align: right;\">\n",
              "      <th></th>\n",
              "      <th>Temperature (C)</th>\n",
              "      <th>Humidity</th>\n",
              "    </tr>\n",
              "  </thead>\n",
              "  <tbody>\n",
              "    <tr>\n",
              "      <th>0</th>\n",
              "      <td>9.472222</td>\n",
              "      <td>0.89</td>\n",
              "    </tr>\n",
              "    <tr>\n",
              "      <th>1</th>\n",
              "      <td>9.355556</td>\n",
              "      <td>0.86</td>\n",
              "    </tr>\n",
              "    <tr>\n",
              "      <th>2</th>\n",
              "      <td>9.377778</td>\n",
              "      <td>0.89</td>\n",
              "    </tr>\n",
              "    <tr>\n",
              "      <th>3</th>\n",
              "      <td>8.288889</td>\n",
              "      <td>0.83</td>\n",
              "    </tr>\n",
              "    <tr>\n",
              "      <th>4</th>\n",
              "      <td>8.755556</td>\n",
              "      <td>0.83</td>\n",
              "    </tr>\n",
              "  </tbody>\n",
              "</table>\n",
              "</div>\n",
              "      <button class=\"colab-df-convert\" onclick=\"convertToInteractive('df-ff8ba133-02a7-4226-be8d-f5cfc88bb000')\"\n",
              "              title=\"Convert this dataframe to an interactive table.\"\n",
              "              style=\"display:none;\">\n",
              "        \n",
              "  <svg xmlns=\"http://www.w3.org/2000/svg\" height=\"24px\"viewBox=\"0 0 24 24\"\n",
              "       width=\"24px\">\n",
              "    <path d=\"M0 0h24v24H0V0z\" fill=\"none\"/>\n",
              "    <path d=\"M18.56 5.44l.94 2.06.94-2.06 2.06-.94-2.06-.94-.94-2.06-.94 2.06-2.06.94zm-11 1L8.5 8.5l.94-2.06 2.06-.94-2.06-.94L8.5 2.5l-.94 2.06-2.06.94zm10 10l.94 2.06.94-2.06 2.06-.94-2.06-.94-.94-2.06-.94 2.06-2.06.94z\"/><path d=\"M17.41 7.96l-1.37-1.37c-.4-.4-.92-.59-1.43-.59-.52 0-1.04.2-1.43.59L10.3 9.45l-7.72 7.72c-.78.78-.78 2.05 0 2.83L4 21.41c.39.39.9.59 1.41.59.51 0 1.02-.2 1.41-.59l7.78-7.78 2.81-2.81c.8-.78.8-2.07 0-2.86zM5.41 20L4 18.59l7.72-7.72 1.47 1.35L5.41 20z\"/>\n",
              "  </svg>\n",
              "      </button>\n",
              "      \n",
              "  <style>\n",
              "    .colab-df-container {\n",
              "      display:flex;\n",
              "      flex-wrap:wrap;\n",
              "      gap: 12px;\n",
              "    }\n",
              "\n",
              "    .colab-df-convert {\n",
              "      background-color: #E8F0FE;\n",
              "      border: none;\n",
              "      border-radius: 50%;\n",
              "      cursor: pointer;\n",
              "      display: none;\n",
              "      fill: #1967D2;\n",
              "      height: 32px;\n",
              "      padding: 0 0 0 0;\n",
              "      width: 32px;\n",
              "    }\n",
              "\n",
              "    .colab-df-convert:hover {\n",
              "      background-color: #E2EBFA;\n",
              "      box-shadow: 0px 1px 2px rgba(60, 64, 67, 0.3), 0px 1px 3px 1px rgba(60, 64, 67, 0.15);\n",
              "      fill: #174EA6;\n",
              "    }\n",
              "\n",
              "    [theme=dark] .colab-df-convert {\n",
              "      background-color: #3B4455;\n",
              "      fill: #D2E3FC;\n",
              "    }\n",
              "\n",
              "    [theme=dark] .colab-df-convert:hover {\n",
              "      background-color: #434B5C;\n",
              "      box-shadow: 0px 1px 3px 1px rgba(0, 0, 0, 0.15);\n",
              "      filter: drop-shadow(0px 1px 2px rgba(0, 0, 0, 0.3));\n",
              "      fill: #FFFFFF;\n",
              "    }\n",
              "  </style>\n",
              "\n",
              "      <script>\n",
              "        const buttonEl =\n",
              "          document.querySelector('#df-ff8ba133-02a7-4226-be8d-f5cfc88bb000 button.colab-df-convert');\n",
              "        buttonEl.style.display =\n",
              "          google.colab.kernel.accessAllowed ? 'block' : 'none';\n",
              "\n",
              "        async function convertToInteractive(key) {\n",
              "          const element = document.querySelector('#df-ff8ba133-02a7-4226-be8d-f5cfc88bb000');\n",
              "          const dataTable =\n",
              "            await google.colab.kernel.invokeFunction('convertToInteractive',\n",
              "                                                     [key], {});\n",
              "          if (!dataTable) return;\n",
              "\n",
              "          const docLinkHtml = 'Like what you see? Visit the ' +\n",
              "            '<a target=\"_blank\" href=https://colab.research.google.com/notebooks/data_table.ipynb>data table notebook</a>'\n",
              "            + ' to learn more about interactive tables.';\n",
              "          element.innerHTML = '';\n",
              "          dataTable['output_type'] = 'display_data';\n",
              "          await google.colab.output.renderOutput(dataTable, element);\n",
              "          const docLink = document.createElement('div');\n",
              "          docLink.innerHTML = docLinkHtml;\n",
              "          element.appendChild(docLink);\n",
              "        }\n",
              "      </script>\n",
              "    </div>\n",
              "  </div>\n",
              "  "
            ]
          },
          "metadata": {},
          "execution_count": 34
        }
      ]
    },
    {
      "cell_type": "code",
      "source": [
        "temp = df['Temperature (C)'] #Variable de temperatura \n",
        "humidity = df['Humidity'] #Variable de humedad\n",
        "temp.head()"
      ],
      "metadata": {
        "colab": {
          "base_uri": "https://localhost:8080/"
        },
        "id": "wiZVy9U4nj53",
        "outputId": "1ad5af6f-1564-4b98-ad8b-b7dcfa4af41a"
      },
      "execution_count": 35,
      "outputs": [
        {
          "output_type": "execute_result",
          "data": {
            "text/plain": [
              "0    9.472222\n",
              "1    9.355556\n",
              "2    9.377778\n",
              "3    8.288889\n",
              "4    8.755556\n",
              "Name: Temperature (C), dtype: float64"
            ]
          },
          "metadata": {},
          "execution_count": 35
        }
      ]
    },
    {
      "cell_type": "markdown",
      "source": [
        "Para realizar las predicciones se utilizará el modelo de regresión lineal. Por lo tanto, se utilizarán las siguientes fórmulas: \n",
        "\n",
        "$θ_0 = θ_0 - α \\frac{1}{n} \n",
        "\\sum_{i=1}^{n}(h_{0}(x_{i})+y_{i}) \n",
        " $\n",
        "\n",
        "$θ_1 = θ_1 - α \\frac{1}{n} \n",
        "\\sum_{i=1}^{n}(h_{0}(x_{i})+y_{i})x_i \n",
        " $"
      ],
      "metadata": {
        "id": "oQi1d215z9da"
      }
    },
    {
      "cell_type": "code",
      "source": [
        "def h(temp,theta):\n",
        "  # Calcular la función de hipótesis\n",
        "  return theta[0] + theta[1]*temp\n",
        "\n",
        "theta = [1,1] # Valores de theta_i del modelo [theta_0, theta_1]\n",
        "alpha = 0.0005 # Tasa de aprendizaje \n",
        "n =len(temp) # Número de datos\n",
        "iter = 100000 # Número de iteraciones\n",
        "\n",
        "print(\"Theta inicial: \", theta)\n",
        "\n",
        "for idx in range(iter):\n",
        "  # Listas para almacenar los valores de h, theta 0 y theta 1\n",
        "  allh = []\n",
        "  delta = []\n",
        "  deltaX =[]\n",
        "\n",
        "  for x_i,y_i in zip(temp,humidity):\n",
        "    # Almacenar valores calculados de h, theta 0 y theta 1 de cada iteración\n",
        "    allh.append(h(x_i,theta))\n",
        "    delta.append(h(x_i,theta)-y_i)\n",
        "    deltaX.append((h(x_i,theta)-y_i)*x_i)\n",
        "\n",
        "  # Cálculo final del theta 0 y theta 1\n",
        "  theta[0] = theta[0] - alpha/n*sum(delta) #Cálculo de theta 0\n",
        "  theta[1] = theta[1] - alpha/n*sum(deltaX) #Cálculo de theta 1\n",
        "\n",
        "print(\"Theta final: \", theta)"
      ],
      "metadata": {
        "colab": {
          "base_uri": "https://localhost:8080/"
        },
        "id": "Ge_sFXN4n2ll",
        "outputId": "e8ffa3a5-380d-4d55-eebd-2d07b754e254"
      },
      "execution_count": 36,
      "outputs": [
        {
          "output_type": "stream",
          "name": "stdout",
          "text": [
            "Theta inicial:  [1, 1]\n",
            "Theta final:  [1.1076850637197209, -0.03113631344694693]\n"
          ]
        }
      ]
    },
    {
      "cell_type": "code",
      "source": [
        "# Graficar \n",
        "import matplotlib.pyplot as plt\n",
        "plt.title(\"Regresión lineal del clima en Szeged (2006-2016)\", fontsize=16)\n",
        "plt.scatter(temp, humidity, marker='.')\n",
        "plt.plot(temp, theta[0] + theta[1]*temp, color=\"purple\")\n",
        "plt.xlabel(\"Temperatura\")\n",
        "plt.ylabel(\"Humedad\")\n",
        "plt.show()"
      ],
      "metadata": {
        "colab": {
          "base_uri": "https://localhost:8080/",
          "height": 298
        },
        "id": "GSdgVU3KoMDd",
        "outputId": "1f7c1047-a1a1-4c8d-d724-db31e9436fe0"
      },
      "execution_count": 37,
      "outputs": [
        {
          "output_type": "display_data",
          "data": {
            "text/plain": [
              "<Figure size 432x288 with 1 Axes>"
            ],
            "image/png": "[encoded data removed]"
          },
          "metadata": {
            "needs_background": "light"
          }
        }
      ]
    },
    {
      "cell_type": "code",
      "source": [],
      "metadata": {
        "id": "ECn-6J4MoPL8"
      },
      "execution_count": 37,
      "outputs": []
    }
  ]
}