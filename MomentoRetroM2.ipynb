{
  "nbformat": 4,
  "nbformat_minor": 0,
  "metadata": {
    "colab": {
      "provenance": [],
      "collapsed_sections": []
    },
    "kernelspec": {
      "name": "python3",
      "display_name": "Python 3"
    },
    "language_info": {
      "name": "python"
    }
  },
  "cells": [
    {
      "cell_type": "markdown",
      "source": [
        "# **Momento de Retroalimentación: Módulo 2 Implementación de una técnica de aprendizaje máquina sin el uso de un framework. (Portafolio Implementación)**"
      ],
      "metadata": {
        "id": "pIiW6SEHaGbc"
      }
    },
    {
      "cell_type": "markdown",
      "source": [
        "**Amy Murakami Tsutsumi - A01750185**"
      ],
      "metadata": {
        "id": "nvn1efqIZ9TA"
      }
    },
    {
      "cell_type": "markdown",
      "source": [
        "Para este portafolio se analizarán los datos del clima en Szeged, Hungría del año 2006-2016. Este dataset se obtuvo de la siguiente liga: https://www.kaggle.com/datasets/budincsevity/szeged-weather\n",
        "\n",
        "Únicamente se utilizarán los primeros 100 datos de las columnas de temperatura y humedad. De esta manera se podrá predecir si existe una relación entre estos valores y si se puede predecir la humedad al tener el dato de la temperatura. "
      ],
      "metadata": {
        "id": "5Fw0ejT3xk7S"
      }
    },
    {
      "cell_type": "markdown",
      "source": [
        "### **Lectura de datos**\n"
      ],
      "metadata": {
        "id": "WIHr1EJJsD9p"
      }
    },
    {
      "cell_type": "code",
      "source": [
        "\"\"\"\n",
        "from google.colab import drive\n",
        "drive.mount(\"/content/gdrive\") \n",
        "%cd \"/content/gdrive/MyDrive/Séptimo Semestre/Mod2\"\n",
        "\"\"\""
      ],
      "metadata": {
        "colab": {
          "base_uri": "https://localhost:8080/",
          "height": 35
        },
        "id": "s3kpRdEoniP4",
        "outputId": "68899cf0-7bb7-44fb-c404-7d673d835cd3"
      },
      "execution_count": 208,
      "outputs": [
        {
          "output_type": "execute_result",
          "data": {
            "text/plain": [
              "'\\nfrom google.colab import drive\\ndrive.mount(\"/content/gdrive\") \\n%cd \"/content/gdrive/MyDrive/Séptimo Semestre/Mod2\"\\n'"
            ],
            "application/vnd.google.colaboratory.intrinsic+json": {
              "type": "string"
            }
          },
          "metadata": {},
          "execution_count": 208
        }
      ]
    },
    {
      "cell_type": "markdown",
      "source": [
        "Para la implementación del modelo de regresión lineal no se utilizará ninguna librería. Sin embargo, será necesario el uso de librerías para poder graficar y para realizar el subset de entrenamiento. Por lo tanto, las librerías que se utilizarán para estos procesos son:\n",
        "* *pandas* : Para la creación y operaciones de dataframes.\n",
        "* *matplotlib.pyplot* : Para la generación de gráficos.\n",
        "* *numpy* : Para la creación de vectores y matrices.\n",
        "* *sklearn.model_selection - train_test_split* : Para la división de los datos en subconjuntos de entrenamiento y prueba.\n",
        "\n",
        "\n"
      ],
      "metadata": {
        "id": "lBKavZ5vfHR5"
      }
    },
    {
      "cell_type": "code",
      "source": [
        "import pandas as pd\n",
        "import matplotlib.pyplot as plt\n",
        "import numpy as np\n",
        "from sklearn.model_selection import train_test_split"
      ],
      "metadata": {
        "id": "LmojNFgwnWXf"
      },
      "execution_count": 192,
      "outputs": []
    },
    {
      "cell_type": "markdown",
      "source": [
        "### **Entendimiento de los datos**"
      ],
      "metadata": {
        "id": "nhc6jy6Gf3k-"
      }
    },
    {
      "cell_type": "code",
      "source": [
        "df = pd.read_csv('weatherHist.csv') #Leer el dataset\n",
        "df.head()"
      ],
      "metadata": {
        "colab": {
          "base_uri": "https://localhost:8080/",
          "height": 206
        },
        "id": "NOxrd46VeUT0",
        "outputId": "0b8ffe6b-d943-4cc1-887d-3f7e132c01db"
      },
      "execution_count": 193,
      "outputs": [
        {
          "output_type": "execute_result",
          "data": {
            "text/plain": [
              "   Temperature (C)  Humidity\n",
              "0         9.472222      0.89\n",
              "1         9.355556      0.86\n",
              "2         9.377778      0.89\n",
              "3         8.288889      0.83\n",
              "4         8.755556      0.83"
            ],
            "text/html": [
              "\n",
              "  <div id=\"df-bad5ab7d-4ff6-4768-aa47-8ec348e770c1\">\n",
              "    <div class=\"colab-df-container\">\n",
              "      <div>\n",
              "<style scoped>\n",
              "    .dataframe tbody tr th:only-of-type {\n",
              "        vertical-align: middle;\n",
              "    }\n",
              "\n",
              "    .dataframe tbody tr th {\n",
              "        vertical-align: top;\n",
              "    }\n",
              "\n",
              "    .dataframe thead th {\n",
              "        text-align: right;\n",
              "    }\n",
              "</style>\n",
              "<table border=\"1\" class=\"dataframe\">\n",
              "  <thead>\n",
              "    <tr style=\"text-align: right;\">\n",
              "      <th></th>\n",
              "      <th>Temperature (C)</th>\n",
              "      <th>Humidity</th>\n",
              "    </tr>\n",
              "  </thead>\n",
              "  <tbody>\n",
              "    <tr>\n",
              "      <th>0</th>\n",
              "      <td>9.472222</td>\n",
              "      <td>0.89</td>\n",
              "    </tr>\n",
              "    <tr>\n",
              "      <th>1</th>\n",
              "      <td>9.355556</td>\n",
              "      <td>0.86</td>\n",
              "    </tr>\n",
              "    <tr>\n",
              "      <th>2</th>\n",
              "      <td>9.377778</td>\n",
              "      <td>0.89</td>\n",
              "    </tr>\n",
              "    <tr>\n",
              "      <th>3</th>\n",
              "      <td>8.288889</td>\n",
              "      <td>0.83</td>\n",
              "    </tr>\n",
              "    <tr>\n",
              "      <th>4</th>\n",
              "      <td>8.755556</td>\n",
              "      <td>0.83</td>\n",
              "    </tr>\n",
              "  </tbody>\n",
              "</table>\n",
              "</div>\n",
              "      <button class=\"colab-df-convert\" onclick=\"convertToInteractive('df-bad5ab7d-4ff6-4768-aa47-8ec348e770c1')\"\n",
              "              title=\"Convert this dataframe to an interactive table.\"\n",
              "              style=\"display:none;\">\n",
              "        \n",
              "  <svg xmlns=\"http://www.w3.org/2000/svg\" height=\"24px\"viewBox=\"0 0 24 24\"\n",
              "       width=\"24px\">\n",
              "    <path d=\"M0 0h24v24H0V0z\" fill=\"none\"/>\n",
              "    <path d=\"M18.56 5.44l.94 2.06.94-2.06 2.06-.94-2.06-.94-.94-2.06-.94 2.06-2.06.94zm-11 1L8.5 8.5l.94-2.06 2.06-.94-2.06-.94L8.5 2.5l-.94 2.06-2.06.94zm10 10l.94 2.06.94-2.06 2.06-.94-2.06-.94-.94-2.06-.94 2.06-2.06.94z\"/><path d=\"M17.41 7.96l-1.37-1.37c-.4-.4-.92-.59-1.43-.59-.52 0-1.04.2-1.43.59L10.3 9.45l-7.72 7.72c-.78.78-.78 2.05 0 2.83L4 21.41c.39.39.9.59 1.41.59.51 0 1.02-.2 1.41-.59l7.78-7.78 2.81-2.81c.8-.78.8-2.07 0-2.86zM5.41 20L4 18.59l7.72-7.72 1.47 1.35L5.41 20z\"/>\n",
              "  </svg>\n",
              "      </button>\n",
              "      \n",
              "  <style>\n",
              "    .colab-df-container {\n",
              "      display:flex;\n",
              "      flex-wrap:wrap;\n",
              "      gap: 12px;\n",
              "    }\n",
              "\n",
              "    .colab-df-convert {\n",
              "      background-color: #E8F0FE;\n",
              "      border: none;\n",
              "      border-radius: 50%;\n",
              "      cursor: pointer;\n",
              "      display: none;\n",
              "      fill: #1967D2;\n",
              "      height: 32px;\n",
              "      padding: 0 0 0 0;\n",
              "      width: 32px;\n",
              "    }\n",
              "\n",
              "    .colab-df-convert:hover {\n",
              "      background-color: #E2EBFA;\n",
              "      box-shadow: 0px 1px 2px rgba(60, 64, 67, 0.3), 0px 1px 3px 1px rgba(60, 64, 67, 0.15);\n",
              "      fill: #174EA6;\n",
              "    }\n",
              "\n",
              "    [theme=dark] .colab-df-convert {\n",
              "      background-color: #3B4455;\n",
              "      fill: #D2E3FC;\n",
              "    }\n",
              "\n",
              "    [theme=dark] .colab-df-convert:hover {\n",
              "      background-color: #434B5C;\n",
              "      box-shadow: 0px 1px 3px 1px rgba(0, 0, 0, 0.15);\n",
              "      filter: drop-shadow(0px 1px 2px rgba(0, 0, 0, 0.3));\n",
              "      fill: #FFFFFF;\n",
              "    }\n",
              "  </style>\n",
              "\n",
              "      <script>\n",
              "        const buttonEl =\n",
              "          document.querySelector('#df-bad5ab7d-4ff6-4768-aa47-8ec348e770c1 button.colab-df-convert');\n",
              "        buttonEl.style.display =\n",
              "          google.colab.kernel.accessAllowed ? 'block' : 'none';\n",
              "\n",
              "        async function convertToInteractive(key) {\n",
              "          const element = document.querySelector('#df-bad5ab7d-4ff6-4768-aa47-8ec348e770c1');\n",
              "          const dataTable =\n",
              "            await google.colab.kernel.invokeFunction('convertToInteractive',\n",
              "                                                     [key], {});\n",
              "          if (!dataTable) return;\n",
              "\n",
              "          const docLinkHtml = 'Like what you see? Visit the ' +\n",
              "            '<a target=\"_blank\" href=https://colab.research.google.com/notebooks/data_table.ipynb>data table notebook</a>'\n",
              "            + ' to learn more about interactive tables.';\n",
              "          element.innerHTML = '';\n",
              "          dataTable['output_type'] = 'display_data';\n",
              "          await google.colab.output.renderOutput(dataTable, element);\n",
              "          const docLink = document.createElement('div');\n",
              "          docLink.innerHTML = docLinkHtml;\n",
              "          element.appendChild(docLink);\n",
              "        }\n",
              "      </script>\n",
              "    </div>\n",
              "  </div>\n",
              "  "
            ]
          },
          "metadata": {},
          "execution_count": 193
        }
      ]
    },
    {
      "cell_type": "markdown",
      "source": [
        "En la tabla anterior se muestran las columnas en el dataset que son la de temperatura en grados centígrados y humedad que es un valor entre 0 y 1. Ambos valores son de tipo float.\n",
        "Ahora se realizará un plot para poder visualizar gráficamente de qué manera se comportan las variables. "
      ],
      "metadata": {
        "id": "oI3mWju0gFSp"
      }
    },
    {
      "cell_type": "code",
      "source": [
        "df.plot()"
      ],
      "metadata": {
        "colab": {
          "base_uri": "https://localhost:8080/",
          "height": 282
        },
        "id": "hiVPVXqzp3Cx",
        "outputId": "29c01228-563c-4109-e20b-07b09c68e48d"
      },
      "execution_count": 194,
      "outputs": [
        {
          "output_type": "execute_result",
          "data": {
            "text/plain": [
              "<matplotlib.axes._subplots.AxesSubplot at 0x7fdea673add0>"
            ]
          },
          "metadata": {},
          "execution_count": 194
        },
        {
          "output_type": "display_data",
          "data": {
            "text/plain": [
              "<Figure size 432x288 with 1 Axes>"
            ],
            "image/png": "[encoded data removed]"
          },
          "metadata": {
            "needs_background": "light"
          }
        }
      ]
    },
    {
      "cell_type": "code",
      "source": [
        "temp = df['Temperature (C)'] #Variable de temperatura \n",
        "humidity = df['Humidity'] #Variable de humedad\n",
        "temp.head()"
      ],
      "metadata": {
        "id": "wiZVy9U4nj53",
        "colab": {
          "base_uri": "https://localhost:8080/"
        },
        "outputId": "da1860a5-ebb7-4def-a946-305e33de1012"
      },
      "execution_count": 195,
      "outputs": [
        {
          "output_type": "execute_result",
          "data": {
            "text/plain": [
              "0    9.472222\n",
              "1    9.355556\n",
              "2    9.377778\n",
              "3    8.288889\n",
              "4    8.755556\n",
              "Name: Temperature (C), dtype: float64"
            ]
          },
          "metadata": {},
          "execution_count": 195
        }
      ]
    },
    {
      "cell_type": "markdown",
      "source": [
        "Se realizará una matriz de correlación para determinar la relación entre ambas variables. "
      ],
      "metadata": {
        "id": "V1La2GkArCWu"
      }
    },
    {
      "cell_type": "code",
      "source": [
        "# Matriz de Correlación\n",
        "corr = df.corr()\n",
        "corr.style.background_gradient(cmap='coolwarm')"
      ],
      "metadata": {
        "colab": {
          "base_uri": "https://localhost:8080/",
          "height": 112
        },
        "id": "nrLszl_WqTl4",
        "outputId": "536c6de9-1b00-4b40-a953-6a6590dd8c33"
      },
      "execution_count": 196,
      "outputs": [
        {
          "output_type": "execute_result",
          "data": {
            "text/plain": [
              "<pandas.io.formats.style.Styler at 0x7fdea6001e50>"
            ],
            "text/html": [
              "<style type=\"text/css\">\n",
              "#T_e8ec0_row0_col0, #T_e8ec0_row1_col1 {\n",
              "  background-color: #b40426;\n",
              "  color: #f1f1f1;\n",
              "}\n",
              "#T_e8ec0_row0_col1, #T_e8ec0_row1_col0 {\n",
              "  background-color: #3b4cc0;\n",
              "  color: #f1f1f1;\n",
              "}\n",
              "</style>\n",
              "<table id=\"T_e8ec0_\" class=\"dataframe\">\n",
              "  <thead>\n",
              "    <tr>\n",
              "      <th class=\"blank level0\" >&nbsp;</th>\n",
              "      <th class=\"col_heading level0 col0\" >Temperature (C)</th>\n",
              "      <th class=\"col_heading level0 col1\" >Humidity</th>\n",
              "    </tr>\n",
              "  </thead>\n",
              "  <tbody>\n",
              "    <tr>\n",
              "      <th id=\"T_e8ec0_level0_row0\" class=\"row_heading level0 row0\" >Temperature (C)</th>\n",
              "      <td id=\"T_e8ec0_row0_col0\" class=\"data row0 col0\" >1.000000</td>\n",
              "      <td id=\"T_e8ec0_row0_col1\" class=\"data row0 col1\" >-0.825571</td>\n",
              "    </tr>\n",
              "    <tr>\n",
              "      <th id=\"T_e8ec0_level0_row1\" class=\"row_heading level0 row1\" >Humidity</th>\n",
              "      <td id=\"T_e8ec0_row1_col0\" class=\"data row1 col0\" >-0.825571</td>\n",
              "      <td id=\"T_e8ec0_row1_col1\" class=\"data row1 col1\" >1.000000</td>\n",
              "    </tr>\n",
              "  </tbody>\n",
              "</table>\n"
            ]
          },
          "metadata": {},
          "execution_count": 196
        }
      ]
    },
    {
      "cell_type": "markdown",
      "source": [
        "Como podemos observar, la correlación entre temperatura y humedad es muy elevada. "
      ],
      "metadata": {
        "id": "nnRit4GMrIjE"
      }
    },
    {
      "cell_type": "markdown",
      "source": [
        "### **Modularización del data-set**"
      ],
      "metadata": {
        "id": "p5_V600Ur-R4"
      }
    },
    {
      "cell_type": "markdown",
      "source": [
        "Ahora se realizará la división de datos en subsets de entrenamiento y prueba. "
      ],
      "metadata": {
        "id": "uAMZ5b38gxFY"
      }
    },
    {
      "cell_type": "code",
      "source": [
        "#Modularización del data-set\n",
        "x_train, x_test, y_train, y_test = train_test_split(temp, humidity, test_size = 0.20, train_size = 0.80, random_state= 2)"
      ],
      "metadata": {
        "id": "UuMeM1JUrhwt"
      },
      "execution_count": 197,
      "outputs": []
    },
    {
      "cell_type": "markdown",
      "source": [
        "### **Modelo de predicción**"
      ],
      "metadata": {
        "id": "Ho8v3bn9sNXp"
      }
    },
    {
      "cell_type": "markdown",
      "source": [
        "Para realizar las predicciones se utilizará el modelo de regresión lineal. Por lo tanto, se utilizarán las siguientes fórmulas: \n",
        "\n",
        "$θ_0 = θ_0 - α \\frac{1}{n} \n",
        "\\sum_{i=1}^{n}(h_{0}(x_{i})+y_{i}) \n",
        " $\n",
        "\n",
        "$θ_1 = θ_1 - α \\frac{1}{n} \n",
        "\\sum_{i=1}^{n}(h_{0}(x_{i})+y_{i})x_i \n",
        " $"
      ],
      "metadata": {
        "id": "oQi1d215z9da"
      }
    },
    {
      "cell_type": "code",
      "source": [
        "def h(temp,theta):\n",
        "  # Calcular la función de hipótesis\n",
        "  return theta[0] + theta[1]*temp\n",
        "\n",
        "def regLin(temp, humidity, alpha, iter):\n",
        "  # Calcular la regresión lineal\n",
        "  theta = [1,1] # Valores de theta_i del modelo [theta_0, theta_1]\n",
        "  n =len(temp) # Número de datos\n",
        "\n",
        "  print(\"Theta inicial: \", theta)\n",
        "\n",
        "  for idx in range(iter):\n",
        "    # Listas para almacenar los valores de h, theta 0 y theta 1\n",
        "    allh = []\n",
        "    delta = []\n",
        "    deltaX =[]\n",
        "\n",
        "    for x_i,y_i in zip(temp,humidity):\n",
        "      # Almacenar valores calculados de h, theta 0 y theta 1 de cada iteración\n",
        "      allh.append(h(x_i,theta))\n",
        "      delta.append(h(x_i,theta)-y_i)\n",
        "      deltaX.append((h(x_i,theta)-y_i)*x_i)\n",
        "\n",
        "    # Cálculo final del theta 0 y theta 1\n",
        "    theta[0] = theta[0] - alpha/n*sum(delta) #Cálculo de theta 0\n",
        "    theta[1] = theta[1] - alpha/n*sum(deltaX) #Cálculo de theta 1\n",
        "\n",
        "  print(\"Theta final: \", theta)\n",
        "\n",
        "  # Graficar la regresión lineal\n",
        "  plt.title(\"Regresión lineal del clima en Szeged (2006-2016)\", fontsize=16)\n",
        "  plt.scatter(temp, humidity, marker='.', color=\"yellowgreen\")\n",
        "  #plt.plot(temp, theta0 + theta1*temp, color=\"mediumturquoise\")\n",
        "  plt.plot(temp, theta[0] + theta[1]*temp, color=\"mediumturquoise\")\n",
        "  plt.xlabel(\"Temperatura\")\n",
        "  plt.ylabel(\"Humedad\")\n",
        "  plt.show()\n",
        "\n",
        "  return allh"
      ],
      "metadata": {
        "id": "Ge_sFXN4n2ll"
      },
      "execution_count": 198,
      "outputs": []
    },
    {
      "cell_type": "code",
      "source": [
        "def metricaDesemp (pred):\n",
        "  # Obtener la métrica de desempeño de los modelos\n",
        "  correlation_matrix = np.corrcoef(y_train, pred)\n",
        "  correlation = correlation_matrix[0,1]\n",
        "  r_squared = correlation**2\n",
        "  return r_squared"
      ],
      "metadata": {
        "id": "MNFfZs-HRuVq"
      },
      "execution_count": 199,
      "outputs": []
    },
    {
      "cell_type": "markdown",
      "source": [
        "### **Pruebas con diferentes parámetros**"
      ],
      "metadata": {
        "id": "TqPjKfQchXkl"
      }
    },
    {
      "cell_type": "markdown",
      "source": [
        "Se realizarán 5 pruebas con diferentes parámetros con los datos de entrenamiento para poder elegir el modelo con mejor desempeño. "
      ],
      "metadata": {
        "id": "cQ8OL-NGha41"
      }
    },
    {
      "cell_type": "code",
      "source": [
        "predic = []\n",
        "pred1 = regLin(x_train, y_train, 0.0005, 100000) \n",
        "met1 = metricaDesemp(pred1)\n",
        "predic.append(met1)\n",
        "print(\"Métrica de desempeño de la prueba 1: \", met1)"
      ],
      "metadata": {
        "colab": {
          "base_uri": "https://localhost:8080/",
          "height": 350
        },
        "id": "HZ0N5JOlK0MS",
        "outputId": "aa85d185-4206-4b19-a053-80963a7dbe23"
      },
      "execution_count": 200,
      "outputs": [
        {
          "output_type": "stream",
          "name": "stdout",
          "text": [
            "Theta inicial:  [1, 1]\n",
            "Theta final:  [1.134930801501417, -0.03278603245817401]\n"
          ]
        },
        {
          "output_type": "display_data",
          "data": {
            "text/plain": [
              "<Figure size 432x288 with 1 Axes>"
            ],
            "image/png": "[encoded data removed]"
          },
          "metadata": {
            "needs_background": "light"
          }
        },
        {
          "output_type": "stream",
          "name": "stdout",
          "text": [
            "Métrica de desempeño de la prueba 1:  0.6936664029435702\n"
          ]
        }
      ]
    },
    {
      "cell_type": "code",
      "source": [
        "pred2 = regLin(x_train, y_train, 0.00001, 100000) \n",
        "met2 = metricaDesemp(pred2)\n",
        "predic.append(met2)\n",
        "print(\"Métrica de desempeño de la prueba 2: \", met2)"
      ],
      "metadata": {
        "colab": {
          "base_uri": "https://localhost:8080/",
          "height": 350
        },
        "id": "Pw99_ZMELD1r",
        "outputId": "a6086aa4-6d22-4152-eee7-24ec71f59c07"
      },
      "execution_count": 201,
      "outputs": [
        {
          "output_type": "stream",
          "name": "stdout",
          "text": [
            "Theta inicial:  [1, 1]\n",
            "Theta final:  [0.9464259897430221, -0.018853381066785444]\n"
          ]
        },
        {
          "output_type": "display_data",
          "data": {
            "text/plain": [
              "<Figure size 432x288 with 1 Axes>"
            ],
            "image/png": "[encoded data removed]"
          },
          "metadata": {
            "needs_background": "light"
          }
        },
        {
          "output_type": "stream",
          "name": "stdout",
          "text": [
            "Métrica de desempeño de la prueba 2:  0.6936664029435704\n"
          ]
        }
      ]
    },
    {
      "cell_type": "code",
      "source": [
        "pred3 = regLin(x_train, y_train, 0.001, 10000) \n",
        "met3 = metricaDesemp(pred3)\n",
        "predic.append(met3)\n",
        "print(\"Métrica de desempeño de la prueba 3: \", met3)"
      ],
      "metadata": {
        "colab": {
          "base_uri": "https://localhost:8080/",
          "height": 350
        },
        "id": "iZ3m7zpCLJlc",
        "outputId": "5ed690d4-a855-4477-e1e8-90399659f90c"
      },
      "execution_count": 202,
      "outputs": [
        {
          "output_type": "stream",
          "name": "stdout",
          "text": [
            "Theta inicial:  [1, 1]\n",
            "Theta final:  [1.0642278476712483, -0.0275602793388332]\n"
          ]
        },
        {
          "output_type": "display_data",
          "data": {
            "text/plain": [
              "<Figure size 432x288 with 1 Axes>"
            ],
            "image/png": "[encoded data removed]"
          },
          "metadata": {
            "needs_background": "light"
          }
        },
        {
          "output_type": "stream",
          "name": "stdout",
          "text": [
            "Métrica de desempeño de la prueba 3:  0.6936664029435707\n"
          ]
        }
      ]
    },
    {
      "cell_type": "code",
      "source": [
        "pred4 = regLin(x_train, y_train, 0.005, 5500) \n",
        "met4 = metricaDesemp(pred4)\n",
        "predic.append(met4)\n",
        "print(\"Métrica de desempeño de la prueba 4: \", met4)"
      ],
      "metadata": {
        "colab": {
          "base_uri": "https://localhost:8080/",
          "height": 350
        },
        "id": "P8-MNyMeLOfe",
        "outputId": "1953512f-3712-485a-d3be-d9c4f362a945"
      },
      "execution_count": 203,
      "outputs": [
        {
          "output_type": "stream",
          "name": "stdout",
          "text": [
            "Theta inicial:  [1, 1]\n",
            "Theta final:  [1.1250707993649236, -0.03205726606115396]\n"
          ]
        },
        {
          "output_type": "display_data",
          "data": {
            "text/plain": [
              "<Figure size 432x288 with 1 Axes>"
            ],
            "image/png": "[encoded data removed]"
          },
          "metadata": {
            "needs_background": "light"
          }
        },
        {
          "output_type": "stream",
          "name": "stdout",
          "text": [
            "Métrica de desempeño de la prueba 4:  0.6936664029435705\n"
          ]
        }
      ]
    },
    {
      "cell_type": "code",
      "source": [
        "pred5 = regLin(x_train, y_train, 0.0015, 100000) \n",
        "met5 = metricaDesemp(pred5)\n",
        "predic.append(met5)\n",
        "print(\"Métrica de desempeño de la prueba 5: \", met5)"
      ],
      "metadata": {
        "colab": {
          "base_uri": "https://localhost:8080/",
          "height": 350
        },
        "id": "e5pbLT8JLWiL",
        "outputId": "7b25e080-2b76-47df-e2d1-8638215f451c"
      },
      "execution_count": 204,
      "outputs": [
        {
          "output_type": "stream",
          "name": "stdout",
          "text": [
            "Theta inicial:  [1, 1]\n",
            "Theta final:  [1.1358826780390563, -0.03285638696977962]\n"
          ]
        },
        {
          "output_type": "display_data",
          "data": {
            "text/plain": [
              "<Figure size 432x288 with 1 Axes>"
            ],
            "image/png": "[encoded data removed]"
          },
          "metadata": {
            "needs_background": "light"
          }
        },
        {
          "output_type": "stream",
          "name": "stdout",
          "text": [
            "Métrica de desempeño de la prueba 5:  0.6936664029435705\n"
          ]
        }
      ]
    },
    {
      "cell_type": "markdown",
      "source": [
        "Ahora se comparará el desempeño de las cinco pruebas para poder elegir los parámetros que se utilizarán para realizar las predicciones."
      ],
      "metadata": {
        "id": "Eg8LXKnblXoj"
      }
    },
    {
      "cell_type": "code",
      "source": [
        "print(predic)\n",
        "print(max(predic))"
      ],
      "metadata": {
        "colab": {
          "base_uri": "https://localhost:8080/"
        },
        "id": "YoLpka25m2Fp",
        "outputId": "eaf3dd35-c133-4531-8d20-111011790ec2"
      },
      "execution_count": 205,
      "outputs": [
        {
          "output_type": "stream",
          "name": "stdout",
          "text": [
            "[0.6936664029435702, 0.6936664029435704, 0.6936664029435707, 0.6936664029435705, 0.6936664029435705]\n",
            "0.6936664029435707\n"
          ]
        }
      ]
    },
    {
      "cell_type": "markdown",
      "source": [
        "Como se puede observar los parámetros de la tercera prueba son los indicados con un alpha de 0.001 y 10000 iteraciones."
      ],
      "metadata": {
        "id": "3B7PrBzRoQsZ"
      }
    },
    {
      "cell_type": "markdown",
      "source": [
        "### **Predicción**"
      ],
      "metadata": {
        "id": "TMNEIkQeogYD"
      }
    },
    {
      "cell_type": "code",
      "source": [
        "predF = regLin(x_test, y_test, 0.001, 10000) "
      ],
      "metadata": {
        "colab": {
          "base_uri": "https://localhost:8080/",
          "height": 333
        },
        "id": "k1BTKvbYopVr",
        "outputId": "0d0ab4f7-b942-43d1-a91e-44f5891cfdd4"
      },
      "execution_count": 206,
      "outputs": [
        {
          "output_type": "stream",
          "name": "stdout",
          "text": [
            "Theta inicial:  [1, 1]\n",
            "Theta final:  [0.9970759382989637, -0.02369674445443631]\n"
          ]
        },
        {
          "output_type": "display_data",
          "data": {
            "text/plain": [
              "<Figure size 432x288 with 1 Axes>"
            ],
            "image/png": "[encoded data removed]"
          },
          "metadata": {
            "needs_background": "light"
          }
        }
      ]
    },
    {
      "cell_type": "markdown",
      "source": [
        "La siguiente tabla muestra los valores de entrada, el valor real esperado y los resultados de la predicción utilizando un alpha de 0.001 y 10000 iteraciones."
      ],
      "metadata": {
        "id": "Kcwjoilwk2AR"
      }
    },
    {
      "cell_type": "code",
      "source": [
        "pd.set_option('max_columns', None)\n",
        "dfEntPred = pd.DataFrame()\n",
        "dfEntPred[\"Entrada\"] = x_test\n",
        "dfEntPred[\"Valor Real Esperado\"] = y_test\n",
        "dfEntPred[\"Predicción\"] = predF      \n",
        "dfEntPred"
      ],
      "metadata": {
        "colab": {
          "base_uri": "https://localhost:8080/",
          "height": 677
        },
        "id": "7te_m6QBhsMP",
        "outputId": "e6d8489f-3e78-4033-feb6-ccf44cc7b0a1"
      },
      "execution_count": 207,
      "outputs": [
        {
          "output_type": "execute_result",
          "data": {
            "text/plain": [
              "      Entrada  Valor Real Esperado  Predicción\n",
              "93   8.794444                 0.71    0.788675\n",
              "30   7.261111                 0.85    0.825010\n",
              "56  12.166667                 0.82    0.708766\n",
              "24  10.422222                 0.62    0.750103\n",
              "16  15.388889                 0.60    0.632411\n",
              "23  10.200000                 0.77    0.755369\n",
              "2    9.377778                 0.89    0.774852\n",
              "27   7.155556                 0.79    0.827511\n",
              "28   6.111111                 0.82    0.852260\n",
              "13  17.333333                 0.51    0.586334\n",
              "98   5.438889                 0.88    0.868190\n",
              "91  10.050000                 0.70    0.758923\n",
              "88  10.116667                 0.76    0.757343\n",
              "14  18.877778                 0.47    0.549737\n",
              "0    9.472222                 0.89    0.772614\n",
              "21  11.183333                 0.76    0.732067\n",
              "3    8.288889                 0.83    0.800655\n",
              "29   6.788889                 0.83    0.836200\n",
              "61  17.383333                 0.67    0.585150\n",
              "78   6.088889                 0.93    0.852787"
            ],
            "text/html": [
              "\n",
              "  <div id=\"df-feaa7eef-d1e2-4fa2-967a-60f1d75a0a42\">\n",
              "    <div class=\"colab-df-container\">\n",
              "      <div>\n",
              "<style scoped>\n",
              "    .dataframe tbody tr th:only-of-type {\n",
              "        vertical-align: middle;\n",
              "    }\n",
              "\n",
              "    .dataframe tbody tr th {\n",
              "        vertical-align: top;\n",
              "    }\n",
              "\n",
              "    .dataframe thead th {\n",
              "        text-align: right;\n",
              "    }\n",
              "</style>\n",
              "<table border=\"1\" class=\"dataframe\">\n",
              "  <thead>\n",
              "    <tr style=\"text-align: right;\">\n",
              "      <th></th>\n",
              "      <th>Entrada</th>\n",
              "      <th>Valor Real Esperado</th>\n",
              "      <th>Predicción</th>\n",
              "    </tr>\n",
              "  </thead>\n",
              "  <tbody>\n",
              "    <tr>\n",
              "      <th>93</th>\n",
              "      <td>8.794444</td>\n",
              "      <td>0.71</td>\n",
              "      <td>0.788675</td>\n",
              "    </tr>\n",
              "    <tr>\n",
              "      <th>30</th>\n",
              "      <td>7.261111</td>\n",
              "      <td>0.85</td>\n",
              "      <td>0.825010</td>\n",
              "    </tr>\n",
              "    <tr>\n",
              "      <th>56</th>\n",
              "      <td>12.166667</td>\n",
              "      <td>0.82</td>\n",
              "      <td>0.708766</td>\n",
              "    </tr>\n",
              "    <tr>\n",
              "      <th>24</th>\n",
              "      <td>10.422222</td>\n",
              "      <td>0.62</td>\n",
              "      <td>0.750103</td>\n",
              "    </tr>\n",
              "    <tr>\n",
              "      <th>16</th>\n",
              "      <td>15.388889</td>\n",
              "      <td>0.60</td>\n",
              "      <td>0.632411</td>\n",
              "    </tr>\n",
              "    <tr>\n",
              "      <th>23</th>\n",
              "      <td>10.200000</td>\n",
              "      <td>0.77</td>\n",
              "      <td>0.755369</td>\n",
              "    </tr>\n",
              "    <tr>\n",
              "      <th>2</th>\n",
              "      <td>9.377778</td>\n",
              "      <td>0.89</td>\n",
              "      <td>0.774852</td>\n",
              "    </tr>\n",
              "    <tr>\n",
              "      <th>27</th>\n",
              "      <td>7.155556</td>\n",
              "      <td>0.79</td>\n",
              "      <td>0.827511</td>\n",
              "    </tr>\n",
              "    <tr>\n",
              "      <th>28</th>\n",
              "      <td>6.111111</td>\n",
              "      <td>0.82</td>\n",
              "      <td>0.852260</td>\n",
              "    </tr>\n",
              "    <tr>\n",
              "      <th>13</th>\n",
              "      <td>17.333333</td>\n",
              "      <td>0.51</td>\n",
              "      <td>0.586334</td>\n",
              "    </tr>\n",
              "    <tr>\n",
              "      <th>98</th>\n",
              "      <td>5.438889</td>\n",
              "      <td>0.88</td>\n",
              "      <td>0.868190</td>\n",
              "    </tr>\n",
              "    <tr>\n",
              "      <th>91</th>\n",
              "      <td>10.050000</td>\n",
              "      <td>0.70</td>\n",
              "      <td>0.758923</td>\n",
              "    </tr>\n",
              "    <tr>\n",
              "      <th>88</th>\n",
              "      <td>10.116667</td>\n",
              "      <td>0.76</td>\n",
              "      <td>0.757343</td>\n",
              "    </tr>\n",
              "    <tr>\n",
              "      <th>14</th>\n",
              "      <td>18.877778</td>\n",
              "      <td>0.47</td>\n",
              "      <td>0.549737</td>\n",
              "    </tr>\n",
              "    <tr>\n",
              "      <th>0</th>\n",
              "      <td>9.472222</td>\n",
              "      <td>0.89</td>\n",
              "      <td>0.772614</td>\n",
              "    </tr>\n",
              "    <tr>\n",
              "      <th>21</th>\n",
              "      <td>11.183333</td>\n",
              "      <td>0.76</td>\n",
              "      <td>0.732067</td>\n",
              "    </tr>\n",
              "    <tr>\n",
              "      <th>3</th>\n",
              "      <td>8.288889</td>\n",
              "      <td>0.83</td>\n",
              "      <td>0.800655</td>\n",
              "    </tr>\n",
              "    <tr>\n",
              "      <th>29</th>\n",
              "      <td>6.788889</td>\n",
              "      <td>0.83</td>\n",
              "      <td>0.836200</td>\n",
              "    </tr>\n",
              "    <tr>\n",
              "      <th>61</th>\n",
              "      <td>17.383333</td>\n",
              "      <td>0.67</td>\n",
              "      <td>0.585150</td>\n",
              "    </tr>\n",
              "    <tr>\n",
              "      <th>78</th>\n",
              "      <td>6.088889</td>\n",
              "      <td>0.93</td>\n",
              "      <td>0.852787</td>\n",
              "    </tr>\n",
              "  </tbody>\n",
              "</table>\n",
              "</div>\n",
              "      <button class=\"colab-df-convert\" onclick=\"convertToInteractive('df-feaa7eef-d1e2-4fa2-967a-60f1d75a0a42')\"\n",
              "              title=\"Convert this dataframe to an interactive table.\"\n",
              "              style=\"display:none;\">\n",
              "        \n",
              "  <svg xmlns=\"http://www.w3.org/2000/svg\" height=\"24px\"viewBox=\"0 0 24 24\"\n",
              "       width=\"24px\">\n",
              "    <path d=\"M0 0h24v24H0V0z\" fill=\"none\"/>\n",
              "    <path d=\"M18.56 5.44l.94 2.06.94-2.06 2.06-.94-2.06-.94-.94-2.06-.94 2.06-2.06.94zm-11 1L8.5 8.5l.94-2.06 2.06-.94-2.06-.94L8.5 2.5l-.94 2.06-2.06.94zm10 10l.94 2.06.94-2.06 2.06-.94-2.06-.94-.94-2.06-.94 2.06-2.06.94z\"/><path d=\"M17.41 7.96l-1.37-1.37c-.4-.4-.92-.59-1.43-.59-.52 0-1.04.2-1.43.59L10.3 9.45l-7.72 7.72c-.78.78-.78 2.05 0 2.83L4 21.41c.39.39.9.59 1.41.59.51 0 1.02-.2 1.41-.59l7.78-7.78 2.81-2.81c.8-.78.8-2.07 0-2.86zM5.41 20L4 18.59l7.72-7.72 1.47 1.35L5.41 20z\"/>\n",
              "  </svg>\n",
              "      </button>\n",
              "      \n",
              "  <style>\n",
              "    .colab-df-container {\n",
              "      display:flex;\n",
              "      flex-wrap:wrap;\n",
              "      gap: 12px;\n",
              "    }\n",
              "\n",
              "    .colab-df-convert {\n",
              "      background-color: #E8F0FE;\n",
              "      border: none;\n",
              "      border-radius: 50%;\n",
              "      cursor: pointer;\n",
              "      display: none;\n",
              "      fill: #1967D2;\n",
              "      height: 32px;\n",
              "      padding: 0 0 0 0;\n",
              "      width: 32px;\n",
              "    }\n",
              "\n",
              "    .colab-df-convert:hover {\n",
              "      background-color: #E2EBFA;\n",
              "      box-shadow: 0px 1px 2px rgba(60, 64, 67, 0.3), 0px 1px 3px 1px rgba(60, 64, 67, 0.15);\n",
              "      fill: #174EA6;\n",
              "    }\n",
              "\n",
              "    [theme=dark] .colab-df-convert {\n",
              "      background-color: #3B4455;\n",
              "      fill: #D2E3FC;\n",
              "    }\n",
              "\n",
              "    [theme=dark] .colab-df-convert:hover {\n",
              "      background-color: #434B5C;\n",
              "      box-shadow: 0px 1px 3px 1px rgba(0, 0, 0, 0.15);\n",
              "      filter: drop-shadow(0px 1px 2px rgba(0, 0, 0, 0.3));\n",
              "      fill: #FFFFFF;\n",
              "    }\n",
              "  </style>\n",
              "\n",
              "      <script>\n",
              "        const buttonEl =\n",
              "          document.querySelector('#df-feaa7eef-d1e2-4fa2-967a-60f1d75a0a42 button.colab-df-convert');\n",
              "        buttonEl.style.display =\n",
              "          google.colab.kernel.accessAllowed ? 'block' : 'none';\n",
              "\n",
              "        async function convertToInteractive(key) {\n",
              "          const element = document.querySelector('#df-feaa7eef-d1e2-4fa2-967a-60f1d75a0a42');\n",
              "          const dataTable =\n",
              "            await google.colab.kernel.invokeFunction('convertToInteractive',\n",
              "                                                     [key], {});\n",
              "          if (!dataTable) return;\n",
              "\n",
              "          const docLinkHtml = 'Like what you see? Visit the ' +\n",
              "            '<a target=\"_blank\" href=https://colab.research.google.com/notebooks/data_table.ipynb>data table notebook</a>'\n",
              "            + ' to learn more about interactive tables.';\n",
              "          element.innerHTML = '';\n",
              "          dataTable['output_type'] = 'display_data';\n",
              "          await google.colab.output.renderOutput(dataTable, element);\n",
              "          const docLink = document.createElement('div');\n",
              "          docLink.innerHTML = docLinkHtml;\n",
              "          element.appendChild(docLink);\n",
              "        }\n",
              "      </script>\n",
              "    </div>\n",
              "  </div>\n",
              "  "
            ]
          },
          "metadata": {},
          "execution_count": 207
        }
      ]
    },
    {
      "cell_type": "markdown",
      "source": [
        "En la tabla anterior se puede vizualizar qué tanto varía el valor real esperado con el valor que se obtuvo en la predicción. "
      ],
      "metadata": {
        "id": "Ls7ir9MmruxO"
      }
    }
  ]
}